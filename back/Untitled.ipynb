{
 "cells": [
  {
   "cell_type": "code",
   "execution_count": 1,
   "metadata": {},
   "outputs": [],
   "source": [
    "import numpy as np\n",
    "from PIL import Image"
   ]
  },
  {
   "cell_type": "code",
   "execution_count": 3,
   "metadata": {},
   "outputs": [],
   "source": [
    "image = Image.open('jordan.jpeg')\n",
    "# Redimensionner l'image\n",
    "image = image.resize((224, 224))\n",
    "# Convertir l'image en tableau numpy\n",
    "image_array = np.array(image)\n",
    "# Flatten l'image\n",
    "image_vector = image_array.reshape(-1)\n",
    "# Normaliser les valeurs de l'image\n",
    "image_vector = image_vector / 255"
   ]
  },
  {
   "cell_type": "code",
   "execution_count": 5,
   "metadata": {},
   "outputs": [
    {
     "name": "stdout",
     "output_type": "stream",
     "text": [
      "[0.         0.         0.         ... 0.         0.00392157 0.00784314]\n"
     ]
    }
   ],
   "source": [
    "print(image_vector)"
   ]
  },
  {
   "cell_type": "code",
   "execution_count": 6,
   "metadata": {},
   "outputs": [
    {
     "name": "stdout",
     "output_type": "stream",
     "text": [
      "input.1 [1, 3, 224, 224] tensor(float)\n"
     ]
    }
   ],
   "source": [
    "import onnxruntime\n",
    "session = onnxruntime.InferenceSession(\"onnx_model_name.onnx\")\n",
    "inputs = session.get_inputs()\n",
    "for i in inputs:\n",
    "    print(i.name, i.shape, i.type)"
   ]
  },
  {
   "cell_type": "code",
   "execution_count": 8,
   "metadata": {},
   "outputs": [],
   "source": [
    "import cv2"
   ]
  },
  {
   "cell_type": "code",
   "execution_count": null,
   "metadata": {},
   "outputs": [],
   "source": []
  }
 ],
 "metadata": {
  "kernelspec": {
   "display_name": "Python 3",
   "language": "python",
   "name": "python3"
  },
  "language_info": {
   "codemirror_mode": {
    "name": "ipython",
    "version": 3
   },
   "file_extension": ".py",
   "mimetype": "text/x-python",
   "name": "python",
   "nbconvert_exporter": "python",
   "pygments_lexer": "ipython3",
   "version": "3.8.5"
  }
 },
 "nbformat": 4,
 "nbformat_minor": 4
}
